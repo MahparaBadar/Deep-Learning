{
  "nbformat": 4,
  "nbformat_minor": 0,
  "metadata": {
    "colab": {
      "provenance": [],
      "authorship_tag": "ABX9TyOvhJM92tZ7BEzzfQOXIR7X"
    },
    "kernelspec": {
      "name": "python3",
      "display_name": "Python 3"
    },
    "language_info": {
      "name": "python"
    }
  },
  "cells": [
    {
      "cell_type": "markdown",
      "source": [
        "\n",
        "**Stemming** and **Lemmatization** are both techniques used to reduce words to their root form, but they differ in their approach:\n",
        "\n",
        "**Stemming:** Removes suffixes or prefixes based on rules, often producing morphological variants.\n",
        "\n",
        "**Lemmatization:** Uses context and part of speech to find the true lemma (dictionary form)."
      ],
      "metadata": {
        "id": "ne7xhuJVg2fw"
      }
    },
    {
      "cell_type": "code",
      "execution_count": 1,
      "metadata": {
        "id": "i9SWYyOZc-NE"
      },
      "outputs": [],
      "source": [
        "import spacy\n",
        "nlp = spacy.load(\"en_core_web_sm\")"
      ]
    },
    {
      "cell_type": "code",
      "source": [
        "doc1 = nlp(u\"I am a runner running in a race because I Love to run since  I ran today\")\n",
        "\n",
        "for token in doc1:\n",
        "    print(token.text,'\\t', '\\t', token.pos_, '\\t','\\t', '\\t' , token.lemma_)"
      ],
      "metadata": {
        "colab": {
          "base_uri": "https://localhost:8080/"
        },
        "id": "zsJHbnSFc-6G",
        "outputId": "a504827c-5e74-4dfd-997d-0ffe2481ac39"
      },
      "execution_count": 2,
      "outputs": [
        {
          "output_type": "stream",
          "name": "stdout",
          "text": [
            "I \t \t PRON \t \t \t I\n",
            "am \t \t AUX \t \t \t be\n",
            "a \t \t DET \t \t \t a\n",
            "runner \t \t NOUN \t \t \t runner\n",
            "running \t \t VERB \t \t \t run\n",
            "in \t \t ADP \t \t \t in\n",
            "a \t \t DET \t \t \t a\n",
            "race \t \t NOUN \t \t \t race\n",
            "because \t \t SCONJ \t \t \t because\n",
            "I \t \t PRON \t \t \t I\n",
            "Love \t \t VERB \t \t \t love\n",
            "to \t \t PART \t \t \t to\n",
            "run \t \t VERB \t \t \t run\n",
            "since \t \t SCONJ \t \t \t since\n",
            "  \t \t SPACE \t \t \t  \n",
            "I \t \t PRON \t \t \t I\n",
            "ran \t \t VERB \t \t \t run\n",
            "today \t \t NOUN \t \t \t today\n"
          ]
        }
      ]
    },
    {
      "cell_type": "code",
      "source": [
        "def show_lemmas(text):\n",
        "    for token in text:\n",
        "        print(f'{token.text:{12}} {token.pos_:{6}} {token.lemma:<{22}} {token.lemma_}')"
      ],
      "metadata": {
        "id": "QkWk2VsTc--Q"
      },
      "execution_count": 3,
      "outputs": []
    },
    {
      "cell_type": "code",
      "source": [
        "doc2= nlp(u\"I saw eighteen mice today! \")\n",
        "show_lemmas(doc2)"
      ],
      "metadata": {
        "colab": {
          "base_uri": "https://localhost:8080/"
        },
        "id": "kqs-xjWic_Ih",
        "outputId": "62086f9f-6a1c-4909-bff6-f885fa5d081c"
      },
      "execution_count": 4,
      "outputs": [
        {
          "output_type": "stream",
          "name": "stdout",
          "text": [
            "I            PRON   4690420944186131903    I\n",
            "saw          VERB   11925638236994514241   see\n",
            "eighteen     NUM    9609336664675087640    eighteen\n",
            "mice         NOUN   1384165645700560590    mouse\n",
            "today        NOUN   11042482332948150395   today\n",
            "!            PUNCT  17494803046312582752   !\n"
          ]
        }
      ]
    },
    {
      "cell_type": "code",
      "source": [
        "doc3= nlp(u\"I am meeting him tomorrow at the meeting \")\n",
        "show_lemmas(doc3)"
      ],
      "metadata": {
        "colab": {
          "base_uri": "https://localhost:8080/"
        },
        "id": "1itxT4K2c_X8",
        "outputId": "7c42019d-126e-4c3a-f16e-90ae70956812"
      },
      "execution_count": 5,
      "outputs": [
        {
          "output_type": "stream",
          "name": "stdout",
          "text": [
            "I            PRON   4690420944186131903    I\n",
            "am           AUX    10382539506755952630   be\n",
            "meeting      VERB   6880656908171229526    meet\n",
            "him          PRON   1655312771067108281    he\n",
            "tomorrow     NOUN   3573583789758258062    tomorrow\n",
            "at           ADP    11667289587015813222   at\n",
            "the          DET    7425985699627899538    the\n",
            "meeting      NOUN   14798207169164081740   meeting\n"
          ]
        }
      ]
    },
    {
      "cell_type": "code",
      "source": [
        "doc4 = nlp(u\"That's an enormous automobile\")\n",
        "show_lemmas(doc4)"
      ],
      "metadata": {
        "colab": {
          "base_uri": "https://localhost:8080/"
        },
        "id": "E8ywvB3mfsd1",
        "outputId": "0a59363b-a4a0-4f89-f1c0-6ad9e6c5ff08"
      },
      "execution_count": 6,
      "outputs": [
        {
          "output_type": "stream",
          "name": "stdout",
          "text": [
            "That         PRON   4380130941430378203    that\n",
            "'s           AUX    10382539506755952630   be\n",
            "an           DET    15099054000809333061   an\n",
            "enormous     ADJ    17917224542039855524   enormous\n",
            "automobile   NOUN   7211811266693931283    automobile\n"
          ]
        }
      ]
    },
    {
      "cell_type": "code",
      "source": [
        "doc5 = nlp(\"Once upon a time, there was a little fox named Pip. Pip loved to play hide-and-seek in the woods. One day, he hid behind a very big tree. He waited and waited, but no one found him. Pip giggled to himself and thought he was the best hider ever!\")\n",
        "show_lemmas(doc5)"
      ],
      "metadata": {
        "colab": {
          "base_uri": "https://localhost:8080/"
        },
        "id": "ZyrxyjyJfsgw",
        "outputId": "4489553b-c667-496e-ebbb-2d1b0878f376"
      },
      "execution_count": 7,
      "outputs": [
        {
          "output_type": "stream",
          "name": "stdout",
          "text": [
            "Once         ADV    18381768081115421630   once\n",
            "upon         SCONJ  12776617025319584140   upon\n",
            "a            DET    11901859001352538922   a\n",
            "time         NOUN   8885804376230376864    time\n",
            ",            PUNCT  2593208677638477497    ,\n",
            "there        PRON   2112642640949226496    there\n",
            "was          VERB   10382539506755952630   be\n",
            "a            DET    11901859001352538922   a\n",
            "little       ADJ    9778055143417507723    little\n",
            "fox          NOUN   4333436952782779665    fox\n",
            "named        VERB   18309932012808971453   name\n",
            "Pip          PROPN  4906171895756551431    Pip\n",
            ".            PUNCT  12646065887601541794   .\n",
            "Pip          PROPN  4906171895756551431    Pip\n",
            "loved        VERB   3702023516439754181    love\n",
            "to           PART   3791531372978436496    to\n",
            "play         VERB   8228585124152053988    play\n",
            "hide         VERB   12499326223551782790   hide\n",
            "-            PUNCT  9153284864653046197    -\n",
            "and          CCONJ  2283656566040971221    and\n",
            "-            PUNCT  9153284864653046197    -\n",
            "seek         VERB   3964910719406958291    seek\n",
            "in           ADP    3002984154512732771    in\n",
            "the          DET    7425985699627899538    the\n",
            "woods        NOUN   8669064306615585050    wood\n",
            ".            PUNCT  12646065887601541794   .\n",
            "One          NUM    17454115351911680600   one\n",
            "day          NOUN   1608482186128794349    day\n",
            ",            PUNCT  2593208677638477497    ,\n",
            "he           PRON   1655312771067108281    he\n",
            "hid          VERB   12499326223551782790   hide\n",
            "behind       ADP    9368086581607646285    behind\n",
            "a            DET    11901859001352538922   a\n",
            "very         ADV    9548244504980166557    very\n",
            "big          ADJ    15511632813958231649   big\n",
            "tree         NOUN   5236966400857015965    tree\n",
            ".            PUNCT  12646065887601541794   .\n",
            "He           PRON   1655312771067108281    he\n",
            "waited       VERB   6203382976377178934    wait\n",
            "and          CCONJ  2283656566040971221    and\n",
            "waited       VERB   6203382976377178934    wait\n",
            ",            PUNCT  2593208677638477497    ,\n",
            "but          CCONJ  14560795576765492085   but\n",
            "no           DET    13055779130471031426   no\n",
            "one          NOUN   17454115351911680600   one\n",
            "found        VERB   16574616920585318162   find\n",
            "him          PRON   1655312771067108281    he\n",
            ".            PUNCT  12646065887601541794   .\n",
            "Pip          PROPN  4906171895756551431    Pip\n",
            "giggled      VERB   7725472810081760234    giggle\n",
            "to           ADP    3791531372978436496    to\n",
            "himself      PRON   14478292773396679348   himself\n",
            "and          CCONJ  2283656566040971221    and\n",
            "thought      VERB   16875814820671380748   think\n",
            "he           PRON   1655312771067108281    he\n",
            "was          AUX    10382539506755952630   be\n",
            "the          DET    7425985699627899538    the\n",
            "best         ADJ    5711639017775284443    good\n",
            "hider        NOUN   2469830511508200449    hider\n",
            "ever         ADV    6231102377460051108    ever\n",
            "!            PUNCT  17494803046312582752   !\n"
          ]
        }
      ]
    },
    {
      "cell_type": "code",
      "source": [],
      "metadata": {
        "id": "aNT3UysLfskJ"
      },
      "execution_count": null,
      "outputs": []
    }
  ]
}