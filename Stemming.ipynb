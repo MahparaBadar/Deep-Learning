{
  "nbformat": 4,
  "nbformat_minor": 0,
  "metadata": {
    "colab": {
      "provenance": [],
      "gpuType": "T4",
      "authorship_tag": "ABX9TyNEBkjDdOuHd2nJ6E4NHvGp"
    },
    "kernelspec": {
      "name": "python3",
      "display_name": "Python 3"
    },
    "language_info": {
      "name": "python"
    },
    "accelerator": "GPU"
  },
  "cells": [
    {
      "cell_type": "code",
      "execution_count": 1,
      "metadata": {
        "id": "9-FZMuP1b5TQ"
      },
      "outputs": [],
      "source": [
        "import nltk\n",
        "from nltk.stem.porter import *"
      ]
    },
    {
      "cell_type": "code",
      "source": [
        "p_stemmer = PorterStemmer()"
      ],
      "metadata": {
        "id": "RfxDIUu6b6UG"
      },
      "execution_count": 2,
      "outputs": []
    },
    {
      "cell_type": "code",
      "source": [
        "words = ['run','running','ran','runs','easily','fairly']"
      ],
      "metadata": {
        "id": "HsZyg-4ob6Wq"
      },
      "execution_count": 3,
      "outputs": []
    },
    {
      "cell_type": "code",
      "source": [
        "for word in words:\n",
        "    print(word+'---->'+p_stemmer.stem(word))"
      ],
      "metadata": {
        "colab": {
          "base_uri": "https://localhost:8080/"
        },
        "id": "7o9-tR-Hb6ZM",
        "outputId": "2a94a756-7bbf-42a9-9230-bd03284a1821"
      },
      "execution_count": 4,
      "outputs": [
        {
          "output_type": "stream",
          "name": "stdout",
          "text": [
            "run---->run\n",
            "running---->run\n",
            "ran---->ran\n",
            "runs---->run\n",
            "easily---->easili\n",
            "fairly---->fairli\n"
          ]
        }
      ]
    },
    {
      "cell_type": "code",
      "source": [
        "from nltk.stem.snowball import SnowballStemmer\n",
        "s_stemmer = SnowballStemmer(language='english')"
      ],
      "metadata": {
        "id": "2zrXL1Rnb6b4"
      },
      "execution_count": 5,
      "outputs": []
    },
    {
      "cell_type": "code",
      "source": [
        "words = ['run','running','ran','runs','easily','fairly']\n",
        "for word in words:\n",
        "    print(word+'---->'+s_stemmer.stem(word))"
      ],
      "metadata": {
        "colab": {
          "base_uri": "https://localhost:8080/"
        },
        "id": "esuVrByAb6ee",
        "outputId": "cf031440-e66a-4575-ab79-81b2fdf30b0b"
      },
      "execution_count": 6,
      "outputs": [
        {
          "output_type": "stream",
          "name": "stdout",
          "text": [
            "run---->run\n",
            "running---->run\n",
            "ran---->ran\n",
            "runs---->run\n",
            "easily---->easili\n",
            "fairly---->fair\n"
          ]
        }
      ]
    },
    {
      "cell_type": "code",
      "source": [
        "words = ['consolingly']\n",
        "print(\"Porter Stemmer\")\n",
        "for word in words:\n",
        "    print(word+'---->'+p_stemmer.stem(word))\n",
        "\n",
        "print(\"Snowball Stemmer\")\n",
        "for word in words:\n",
        "    print(word+'---->'+s_stemmer.stem(word))"
      ],
      "metadata": {
        "colab": {
          "base_uri": "https://localhost:8080/"
        },
        "id": "q33nKzKUb6hv",
        "outputId": "c7118ac2-b933-4197-d993-bddcc5e8c57b"
      },
      "execution_count": 7,
      "outputs": [
        {
          "output_type": "stream",
          "name": "stdout",
          "text": [
            "Porter Stemmer\n",
            "consolingly---->consolingli\n",
            "Snowball Stemmer\n",
            "consolingly---->consol\n"
          ]
        }
      ]
    }
  ]
}