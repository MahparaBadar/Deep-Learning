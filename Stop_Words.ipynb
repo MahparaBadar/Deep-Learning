{
  "nbformat": 4,
  "nbformat_minor": 0,
  "metadata": {
    "colab": {
      "provenance": [],
      "authorship_tag": "ABX9TyPhxzmFiShhYXUNVjHfN2fr"
    },
    "kernelspec": {
      "name": "python3",
      "display_name": "Python 3"
    },
    "language_info": {
      "name": "python"
    }
  },
  "cells": [
    {
      "cell_type": "markdown",
      "source": [
        "**Stop** **Words**"
      ],
      "metadata": {
        "id": "6oOuualpWIbB"
      }
    },
    {
      "cell_type": "markdown",
      "source": [
        "Words like \"a\" and \"the\" appear so frequently that they don't require tagging as thoroughly as nouns, verbs and modifiers. We call these stop words, and they can be filtered from the text to be processed. spaCy holds a built-in list of some 305 English stop words."
      ],
      "metadata": {
        "id": "PYqNLm6xWO2M"
      }
    },
    {
      "cell_type": "code",
      "source": [
        "# Perform standard imports:\n",
        "import spacy\n",
        "nlp = spacy.load('en_core_web_sm')"
      ],
      "metadata": {
        "id": "r-EEYg9UWdB5"
      },
      "execution_count": null,
      "outputs": []
    },
    {
      "cell_type": "code",
      "source": [
        "print(nlp.Defaults.stop_words)"
      ],
      "metadata": {
        "colab": {
          "base_uri": "https://localhost:8080/"
        },
        "id": "uw8Ou1wiXFg3",
        "outputId": "56170944-54ba-4ef4-8f5e-1ad9d1485a3e"
      },
      "execution_count": null,
      "outputs": [
        {
          "output_type": "stream",
          "name": "stdout",
          "text": [
            "{'in', 'thereby', 'after', 'make', 'top', 'none', 'too', 'whoever', 'sometimes', 'go', 'are', 'neither', 'will', 'last', 'should', 'eight', 'some', 'again', 'whenever', 'anyhow', 'be', 'anyway', 'nobody', 'former', 'mine', 'me', 'afterwards', 'per', 'anyone', 'everyone', 'she', 'forty', 'your', 'while', 'nowhere', 'namely', 'sometime', 'sixty', 'another', 'nevertheless', 'put', 're', 'within', 'that', 'if', 'for', 'thereupon', 'since', 'fifty', 'everything', 'at', 'own', 'upon', 'been', 'serious', 'her', 'whereafter', 'beforehand', 'ever', 'up', 'whereas', 'on', \"'re\", 'by', '‘m', 'it', 'bottom', 'whereby', '‘s', 'how', 'further', 'even', 'onto', 'whom', 'yourselves', 'give', 'always', 'two', 'enough', 'about', 'least', 'fifteen', 'somehow', 'still', 'only', 'rather', 'there', 'via', 'almost', \"'s\", 'against', 'to', '‘d', 'around', 'am', \"'ll\", 'across', 'us', 'noone', 'either', 'so', 'same', 'both', 'being', 'hers', 'over', 'amount', 'have', 'becoming', 'unless', 'the', 'down', 'as', 'regarding', '’ll', 'may', 'now', 'when', 'this', 'besides', 'one', 'why', 'moreover', 'does', 'before', 'or', 'five', 'more', 'anything', 'formerly', 'using', 'cannot', 'indeed', 'thus', 'front', 'thru', 'three', \"'m\", 'whether', 'ourselves', 'whence', 'call', 'were', 'next', 'no', 'under', 'behind', 'ca', 'whatever', 'something', 'his', 'made', 'much', 'them', 'hereupon', 'must', 'whole', 'herein', 'alone', 'first', 'herself', '’re', 'through', 'but', 'n‘t', 'towards', 'seemed', 'back', 'beyond', 'perhaps', 'therein', 'he', 'well', 'quite', 'and', 'not', 'eleven', 'anywhere', 'each', 'hundred', 'however', 'keep', '‘re', 'is', 'meanwhile', 'others', 'someone', 'himself', 'done', 'between', 'somewhere', 'otherwise', 'what', 'latterly', 'yourself', 'n’t', 'else', 'nor', \"'d\", 'except', 'twenty', 'off', 'often', 'take', 'thereafter', \"n't\", 'all', \"'ve\", 'i', 'which', 'hereafter', 'mostly', 'such', '‘ve', 'therefore', 'although', 'yours', 'our', '’ve', 'together', 'very', 'please', 'did', 'amongst', 'they', 'elsewhere', '’d', 'seeming', 'might', 'throughout', 'can', 'beside', 'other', 'part', 'thence', 'seems', 'had', 'than', 'side', 'became', 'out', 'wherein', 'toward', 'show', 'then', 'hence', 'less', 'do', 'seem', '‘ll', 'once', 'many', 'wherever', 'these', 'you', 'any', 'though', '’m', 'whither', 'twelve', 'we', 'really', 'six', 'due', 'where', 'various', 'get', 'among', 'my', 'him', 'full', 'already', 'myself', 'its', 'latter', 'nothing', 'become', 'was', 'hereby', 'until', 'say', 'most', 'could', 'along', 'itself', 'who', 'never', 'of', '’s', 'also', 'empty', 'ours', 'below', 'their', 'nine', 'from', 'whose', 'every', 'into', 'move', 'with', 'an', 'themselves', 'four', 'because', 'name', 'doing', 'would', 'a', 'everywhere', 'just', 'becomes', 'several', 'has', 'whereupon', 'during', 'ten', 'without', 'see', 'yet', 'used', 'those', 'here', 'above', 'third', 'few'}\n"
          ]
        }
      ]
    },
    {
      "cell_type": "code",
      "source": [
        "len(nlp.Defaults.stop_words)"
      ],
      "metadata": {
        "colab": {
          "base_uri": "https://localhost:8080/"
        },
        "id": "EfNtXnnRXFja",
        "outputId": "e10cf4c6-2708-42df-ee84-2c34c993d309"
      },
      "execution_count": null,
      "outputs": [
        {
          "output_type": "execute_result",
          "data": {
            "text/plain": [
              "326"
            ]
          },
          "metadata": {},
          "execution_count": 3
        }
      ]
    },
    {
      "cell_type": "markdown",
      "source": [
        "To see if a word is a stop word"
      ],
      "metadata": {
        "id": "whr30ZoyXULk"
      }
    },
    {
      "cell_type": "code",
      "source": [
        "nlp.vocab['myself'].is_stop"
      ],
      "metadata": {
        "colab": {
          "base_uri": "https://localhost:8080/"
        },
        "id": "vLTnS4I3XFm1",
        "outputId": "f2356582-2fb3-461f-92b4-b4fdecda4b71"
      },
      "execution_count": null,
      "outputs": [
        {
          "output_type": "execute_result",
          "data": {
            "text/plain": [
              "True"
            ]
          },
          "metadata": {},
          "execution_count": 4
        }
      ]
    },
    {
      "cell_type": "code",
      "source": [
        "nlp.vocab['mystery'].is_stop"
      ],
      "metadata": {
        "colab": {
          "base_uri": "https://localhost:8080/"
        },
        "id": "7XCSl-TnXa4b",
        "outputId": "a5df0817-7636-4a88-ff9f-51a65df4600f"
      },
      "execution_count": null,
      "outputs": [
        {
          "output_type": "execute_result",
          "data": {
            "text/plain": [
              "False"
            ]
          },
          "metadata": {},
          "execution_count": 5
        }
      ]
    },
    {
      "cell_type": "markdown",
      "source": [
        "To add a stop word"
      ],
      "metadata": {
        "id": "i0fIFM9uXg-9"
      }
    },
    {
      "cell_type": "markdown",
      "source": [
        "There may be times when you wish to add a stop word to the default set. Perhaps you decide that 'btw' (common shorthand for \"by the way\") should be considered a stop word."
      ],
      "metadata": {
        "id": "Mq1PM-tRXuyq"
      }
    },
    {
      "cell_type": "code",
      "source": [
        "# Add the word to the set of stop words. Use lowercase!\n",
        "nlp.Defaults.stop_words.add('btw')\n",
        "\n",
        "# Set the stop_word tag on the lexeme\n",
        "nlp.vocab['btw'].is_stop = True"
      ],
      "metadata": {
        "id": "dX77OgPRXa72"
      },
      "execution_count": null,
      "outputs": []
    },
    {
      "cell_type": "code",
      "source": [
        "len(nlp.Defaults.stop_words)"
      ],
      "metadata": {
        "colab": {
          "base_uri": "https://localhost:8080/"
        },
        "id": "UigtIT6ZYKKf",
        "outputId": "941a7d9e-0285-445a-f954-4dd237d1ab24"
      },
      "execution_count": null,
      "outputs": [
        {
          "output_type": "execute_result",
          "data": {
            "text/plain": [
              "327"
            ]
          },
          "metadata": {},
          "execution_count": 7
        }
      ]
    },
    {
      "cell_type": "code",
      "source": [
        "nlp.vocab['btw'].is_stop"
      ],
      "metadata": {
        "colab": {
          "base_uri": "https://localhost:8080/"
        },
        "id": "F-6_DyHuYLyQ",
        "outputId": "a73db9da-f0eb-4182-91a6-3e1c50d58ecb"
      },
      "execution_count": null,
      "outputs": [
        {
          "output_type": "execute_result",
          "data": {
            "text/plain": [
              "True"
            ]
          },
          "metadata": {},
          "execution_count": 8
        }
      ]
    },
    {
      "cell_type": "markdown",
      "source": [
        "When adding stop words, always use lowercase. Lexemes are converted to lowercase before being added to vocab."
      ],
      "metadata": {
        "id": "VYGw2bjyYAAy"
      }
    },
    {
      "cell_type": "markdown",
      "source": [
        "To remove a stop word"
      ],
      "metadata": {
        "id": "2erZ-aMkYXNg"
      }
    },
    {
      "cell_type": "markdown",
      "source": [
        "Alternatively, you may decide that 'beyond' should not be considered a stop word."
      ],
      "metadata": {
        "id": "aJvrVssOYbR1"
      }
    },
    {
      "cell_type": "code",
      "source": [
        "# Remove the word from the set of stop words\n",
        "nlp.Defaults.stop_words.remove('beyond')\n",
        "\n",
        "# Remove the stop_word tag from the lexeme\n",
        "nlp.vocab['beyond'].is_stop = False"
      ],
      "metadata": {
        "id": "64minHgJX7FC"
      },
      "execution_count": null,
      "outputs": []
    },
    {
      "cell_type": "code",
      "source": [
        "len(nlp.Defaults.stop_words)"
      ],
      "metadata": {
        "colab": {
          "base_uri": "https://localhost:8080/"
        },
        "id": "59yzuWSrX7Hq",
        "outputId": "8925f814-86a3-481b-ddb0-42c45d63a92e"
      },
      "execution_count": null,
      "outputs": [
        {
          "output_type": "execute_result",
          "data": {
            "text/plain": [
              "326"
            ]
          },
          "metadata": {},
          "execution_count": 10
        }
      ]
    },
    {
      "cell_type": "code",
      "source": [
        "nlp.vocab['beyond'].is_stop"
      ],
      "metadata": {
        "colab": {
          "base_uri": "https://localhost:8080/"
        },
        "id": "ElPUnQ_UX7LR",
        "outputId": "2539ba1b-ac28-4fd6-b780-bed607d1d322"
      },
      "execution_count": null,
      "outputs": [
        {
          "output_type": "execute_result",
          "data": {
            "text/plain": [
              "False"
            ]
          },
          "metadata": {},
          "execution_count": 11
        }
      ]
    },
    {
      "cell_type": "markdown",
      "source": [
        "https://spacy.io/models/en\n",
        "\n",
        "https://spacy.io/models/en#en_core_web_trf\n",
        "\n"
      ],
      "metadata": {
        "id": "0ys-W4yIY9N8"
      }
    }
  ]
}